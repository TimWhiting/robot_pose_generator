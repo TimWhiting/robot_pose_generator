{
  "nbformat": 4,
  "nbformat_minor": 0,
  "metadata": {
    "accelerator": "GPU",
    "colab": {
      "name": "Copy of 2019-04-23 GAN Tutorial",
      "provenance": [],
      "collapsed_sections": [],
      "toc_visible": true,
      "include_colab_link": true
    },
    "kernelspec": {
      "display_name": "Python 3",
      "language": "python",
      "name": "python3"
    },
    "language_info": {
      "codemirror_mode": {
        "name": "ipython",
        "version": 3
      },
      "file_extension": ".py",
      "mimetype": "text/x-python",
      "name": "python",
      "nbconvert_exporter": "python",
      "pygments_lexer": "ipython3",
      "version": "3.6.8"
    }
  },
  "cells": [
    {
      "cell_type": "markdown",
      "metadata": {
        "id": "view-in-github",
        "colab_type": "text"
      },
      "source": [
        "<a href=\"https://colab.research.google.com/github/TimWhiting/robot_pose_generator/blob/master/RobotPoseGAN.ipynb\" target=\"_parent\"><img src=\"https://colab.research.google.com/assets/colab-badge.svg\" alt=\"Open In Colab\"/></a>"
      ]
    },
    {
      "cell_type": "markdown",
      "metadata": {
        "colab_type": "text",
        "id": "chwn67tnovVA"
      },
      "source": [
        "# 2. Define the Generator and Discriminator"
      ]
    },
    {
      "cell_type": "code",
      "metadata": {
        "colab_type": "code",
        "id": "ropMkTLTiWos",
        "outputId": "3e4378ba-ff19-4ab9-b75a-f3ed2ccf3767",
        "colab": {
          "base_uri": "https://localhost:8080/",
          "height": 479
        }
      },
      "source": [
        "!pip install torch==1.1.0\n",
        "!pip install torchvision==0.3.0\n",
        "import sys\n",
        "print(sys.version) # python 3.6\n",
        "import torch\n",
        "import torch.nn as nn\n",
        "import torchvision.datasets\n",
        "import torchvision.transforms as transforms\n",
        "import torch.nn.functional as F\n",
        "import torchvision.utils as vutils\n",
        "print(torch.__version__) \n",
        "\n",
        "%matplotlib inline\n",
        "import matplotlib.pyplot as plt\n",
        "import os, time\n",
        "\n",
        "import itertools\n",
        "import pickle\n",
        "import imageio\n",
        "import torch.optim as optim\n",
        "from torchvision import datasets, transforms\n",
        "from torch.autograd import Variable\n",
        "from tqdm import tqdm\n",
        "\n",
        "# You can use whatever display function you want. This is a really simple one that makes decent visualizations\n",
        "def show_imgs(x, new_fig=True):\n",
        "    grid = vutils.make_grid(x.detach().cpu(), nrow=8, normalize=True, pad_value=0.3)\n",
        "    grid = grid.transpose(0,2).transpose(0,1) # channels as last dimension\n",
        "    if new_fig:\n",
        "        plt.figure()\n",
        "    plt.imshow(grid.numpy())"
      ],
      "execution_count": 0,
      "outputs": [
        {
          "output_type": "stream",
          "text": [
            "Collecting torch==1.1.0\n",
            "\u001b[?25l  Downloading https://files.pythonhosted.org/packages/69/60/f685fb2cfb3088736bafbc9bdbb455327bdc8906b606da9c9a81bae1c81e/torch-1.1.0-cp36-cp36m-manylinux1_x86_64.whl (676.9MB)\n",
            "\u001b[K     |████████████████████████████████| 676.9MB 26kB/s \n",
            "\u001b[?25hRequirement already satisfied: numpy in /usr/local/lib/python3.6/dist-packages (from torch==1.1.0) (1.17.3)\n",
            "\u001b[31mERROR: torchvision 0.4.1+cu100 has requirement torch==1.3.0, but you'll have torch 1.1.0 which is incompatible.\u001b[0m\n",
            "Installing collected packages: torch\n",
            "  Found existing installation: torch 1.3.0+cu100\n",
            "    Uninstalling torch-1.3.0+cu100:\n",
            "      Successfully uninstalled torch-1.3.0+cu100\n",
            "Successfully installed torch-1.1.0\n",
            "Collecting torchvision==0.3.0\n",
            "\u001b[?25l  Downloading https://files.pythonhosted.org/packages/2e/45/0f2f3062c92d9cf1d5d7eabd3cae88cea9affbd2b17fb1c043627838cb0a/torchvision-0.3.0-cp36-cp36m-manylinux1_x86_64.whl (2.6MB)\n",
            "\u001b[K     |████████████████████████████████| 2.6MB 2.6MB/s \n",
            "\u001b[?25hRequirement already satisfied: numpy in /usr/local/lib/python3.6/dist-packages (from torchvision==0.3.0) (1.17.3)\n",
            "Requirement already satisfied: pillow>=4.1.1 in /usr/local/lib/python3.6/dist-packages (from torchvision==0.3.0) (4.3.0)\n",
            "Requirement already satisfied: six in /usr/local/lib/python3.6/dist-packages (from torchvision==0.3.0) (1.12.0)\n",
            "Requirement already satisfied: torch>=1.1.0 in /usr/local/lib/python3.6/dist-packages (from torchvision==0.3.0) (1.1.0)\n",
            "Requirement already satisfied: olefile in /usr/local/lib/python3.6/dist-packages (from pillow>=4.1.1->torchvision==0.3.0) (0.46)\n",
            "Installing collected packages: torchvision\n",
            "  Found existing installation: torchvision 0.4.1+cu100\n",
            "    Uninstalling torchvision-0.4.1+cu100:\n",
            "      Successfully uninstalled torchvision-0.4.1+cu100\n",
            "Successfully installed torchvision-0.3.0\n",
            "3.6.8 (default, Oct  7 2019, 12:59:55) \n",
            "[GCC 8.3.0]\n",
            "1.1.0\n"
          ],
          "name": "stdout"
        }
      ]
    },
    {
      "cell_type": "markdown",
      "metadata": {
        "colab_type": "text",
        "id": "b-hYfkNhovVa"
      },
      "source": [
        "## Defining the neural networks"
      ]
    },
    {
      "cell_type": "code",
      "metadata": {
        "id": "XjkacjxDgcM5",
        "colab_type": "code",
        "colab": {}
      },
      "source": [
        "# helper function to initialize the weights using a normal distribution. \n",
        "# this was done in the original work (instead of xavier) and has been shown\n",
        "# to help GAN performance\n",
        "def normal_init(m, mean, std):\n",
        "    if isinstance(m, nn.ConvTranspose2d) or isinstance(m, nn.Conv2d):\n",
        "        m.weight.data.normal_(mean, std)\n",
        "        m.bias.data.zero_()"
      ],
      "execution_count": 0,
      "outputs": []
    },
    {
      "cell_type": "code",
      "metadata": {
        "id": "-g2imGhFgcM9",
        "colab_type": "code",
        "colab": {}
      },
      "source": [
        "class Generator(nn.Module):\n",
        "    # initializers\n",
        "    def __init__(self, d=128):\n",
        "        super().__init__()\n",
        "        self.deconv1 = nn.ConvTranspose2d(100, d*8, 4, 1, 0)\n",
        "        self.deconv1_bn = nn.BatchNorm2d(d*8)\n",
        "        self.deconv2 = nn.ConvTranspose2d(d*8, d*4, 4, 2, 1)\n",
        "        self.deconv2_bn = nn.BatchNorm2d(d*4)\n",
        "        self.deconv3 = nn.ConvTranspose2d(d*4, d*2, 4, 2, 1)\n",
        "        self.deconv3_bn = nn.BatchNorm2d(d*2)\n",
        "        self.deconv4 = nn.ConvTranspose2d(d*2, d, 4, 2, 1)\n",
        "        self.deconv4_bn = nn.BatchNorm2d(d)\n",
        "        self.deconv5 = nn.ConvTranspose2d(d, 3, 4, 2, 1)\n",
        "\n",
        "    # weight_init\n",
        "    def weight_init(self, mean, std):\n",
        "        for m in self._modules:\n",
        "            normal_init(self._modules[m], mean, std)\n",
        "\n",
        "    # forward method\n",
        "    def forward(self, x):\n",
        "        x = F.relu(self.deconv1_bn(self.deconv1(x)))\n",
        "        x = F.relu(self.deconv2_bn(self.deconv2(x)))\n",
        "        x = F.relu(self.deconv3_bn(self.deconv3(x)))\n",
        "        x = F.relu(self.deconv4_bn(self.deconv4(x)))\n",
        "        x = torch.tanh(self.deconv5(x))\n",
        "\n",
        "        return x"
      ],
      "execution_count": 0,
      "outputs": []
    },
    {
      "cell_type": "code",
      "metadata": {
        "id": "IExnShBDgcNC",
        "colab_type": "code",
        "colab": {}
      },
      "source": [
        "class Discriminator(nn.Module):\n",
        "    # initializers\n",
        "    def __init__(self, d=128):\n",
        "        super().__init__()\n",
        "        self.conv1 = nn.Conv2d(3, d, 4, 2, 1)\n",
        "        self.conv2 = nn.Conv2d(d, d*2, 4, 2, 1)\n",
        "        self.conv2_bn = nn.BatchNorm2d(d*2)\n",
        "        self.conv3 = nn.Conv2d(d*2, d*4, 4, 2, 1)\n",
        "        self.conv3_bn = nn.BatchNorm2d(d*4)\n",
        "        self.conv4 = nn.Conv2d(d*4, d*8, 4, 2, 1)\n",
        "        self.conv4_bn = nn.BatchNorm2d(d*8)\n",
        "        self.conv5 = nn.Conv2d(d*8, 1, 4, 1, 0)\n",
        "\n",
        "    # weight_init\n",
        "    def weight_init(self, mean, std):\n",
        "        for m in self._modules:\n",
        "            normal_init(self._modules[m], mean, std)\n",
        "\n",
        "    # forward method\n",
        "    def forward(self, x):\n",
        "        x = F.leaky_relu(self.conv1(x), 0.2)\n",
        "        x = F.leaky_relu(self.conv2_bn(self.conv2(x)), 0.2)\n",
        "        x = F.leaky_relu(self.conv3_bn(self.conv3(x)), 0.2)\n",
        "        x = F.leaky_relu(self.conv4_bn(self.conv4(x)), 0.2)\n",
        "        x = torch.sigmoid(self.conv5(x))\n",
        "\n",
        "        return x"
      ],
      "execution_count": 0,
      "outputs": []
    },
    {
      "cell_type": "code",
      "metadata": {
        "colab_type": "code",
        "id": "oG5luAtAovVj",
        "outputId": "67242ec3-2ae2-408e-9dbb-74b7252329bb",
        "colab": {
          "base_uri": "https://localhost:8080/",
          "height": 374
        }
      },
      "source": [
        "#####\n",
        "# instantiate a Generator and Discriminator according to their class definition.\n",
        "#####\n",
        "D = Discriminator()\n",
        "G = Generator()\n",
        "# print(D)\n",
        "# print(G)"
      ],
      "execution_count": 0,
      "outputs": [
        {
          "output_type": "stream",
          "text": [
            "Discriminator(\n",
            "  (conv1): Conv2d(3, 128, kernel_size=(4, 4), stride=(2, 2), padding=(1, 1))\n",
            "  (conv2): Conv2d(128, 256, kernel_size=(4, 4), stride=(2, 2), padding=(1, 1))\n",
            "  (conv2_bn): BatchNorm2d(256, eps=1e-05, momentum=0.1, affine=True, track_running_stats=True)\n",
            "  (conv3): Conv2d(256, 512, kernel_size=(4, 4), stride=(2, 2), padding=(1, 1))\n",
            "  (conv3_bn): BatchNorm2d(512, eps=1e-05, momentum=0.1, affine=True, track_running_stats=True)\n",
            "  (conv4): Conv2d(512, 1024, kernel_size=(4, 4), stride=(2, 2), padding=(1, 1))\n",
            "  (conv4_bn): BatchNorm2d(1024, eps=1e-05, momentum=0.1, affine=True, track_running_stats=True)\n",
            "  (conv5): Conv2d(1024, 1, kernel_size=(4, 4), stride=(1, 1))\n",
            ")\n",
            "Generator(\n",
            "  (deconv1): ConvTranspose2d(100, 1024, kernel_size=(4, 4), stride=(1, 1))\n",
            "  (deconv1_bn): BatchNorm2d(1024, eps=1e-05, momentum=0.1, affine=True, track_running_stats=True)\n",
            "  (deconv2): ConvTranspose2d(1024, 512, kernel_size=(4, 4), stride=(2, 2), padding=(1, 1))\n",
            "  (deconv2_bn): BatchNorm2d(512, eps=1e-05, momentum=0.1, affine=True, track_running_stats=True)\n",
            "  (deconv3): ConvTranspose2d(512, 256, kernel_size=(4, 4), stride=(2, 2), padding=(1, 1))\n",
            "  (deconv3_bn): BatchNorm2d(256, eps=1e-05, momentum=0.1, affine=True, track_running_stats=True)\n",
            "  (deconv4): ConvTranspose2d(256, 128, kernel_size=(4, 4), stride=(2, 2), padding=(1, 1))\n",
            "  (deconv4_bn): BatchNorm2d(128, eps=1e-05, momentum=0.1, affine=True, track_running_stats=True)\n",
            "  (deconv5): ConvTranspose2d(128, 3, kernel_size=(4, 4), stride=(2, 2), padding=(1, 1))\n",
            ")\n"
          ],
          "name": "stdout"
        }
      ]
    },
    {
      "cell_type": "markdown",
      "metadata": {
        "colab_type": "text",
        "id": "2Euy222dovVn"
      },
      "source": [
        "## Testing the neural networks (forward pass)"
      ]
    },
    {
      "cell_type": "code",
      "metadata": {
        "colab_type": "code",
        "id": "n1ZQfC5QovVy",
        "colab": {}
      },
      "source": [
        "# A small batch of 2 samples, random noise.\n",
        "z = torch.randn(2, 100).view(-1,100,1,1)\n",
        "x_gen = G(z)\n",
        "#notice that the generated value is a batch of 2 images\n",
        "x_gen.shape"
      ],
      "execution_count": 0,
      "outputs": []
    },
    {
      "cell_type": "code",
      "metadata": {
        "colab_type": "code",
        "id": "Xe74RX_NovV1",
        "outputId": "2a587057-4132-4f03-e820-2e294ef7b61a",
        "colab": {
          "base_uri": "https://localhost:8080/",
          "height": 95
        }
      },
      "source": [
        "z = torch.randn(8, 100).view(-1,100,1,1).cuda()\n",
        "G = G.cuda()\n",
        "show_imgs(G(z))"
      ],
      "execution_count": 0,
      "outputs": [
        {
          "output_type": "display_data",
          "data": {
            "image/png": "[encoded data removed]",
            "text/plain": [
              "<Figure size 432x288 with 1 Axes>"
            ]
          },
          "metadata": {
            "tags": []
          }
        }
      ]
    },
    {
      "cell_type": "markdown",
      "metadata": {
        "id": "_z7gJrsFgcNj",
        "colab_type": "text"
      },
      "source": [
        "In traditional deep learning, you measure performance by looking at the loss value. In GANs, this does not work well because we are performing a Min-Max and the loss values may not be intuitively lower when the network is doing well. \n",
        "\n",
        "So, performance must be measured qualitatively, by looking at images. Therefore, you can sample random $z$ vectors every pass through the network to see how \"novel\" the generation is becoming. And you can also sample a single $z$ vector that is passed through the network every time to see how a single example progresses during training. "
      ]
    },
    {
      "cell_type": "code",
      "metadata": {
        "id": "Nh0w3MHzgcNl",
        "colab_type": "code",
        "colab": {}
      },
      "source": [
        "fixed_z_ = torch.randn((5 * 5, 100)).view(-1, 100, 1, 1)    # fixed noise\n",
        "fixed_z_ = Variable(fixed_z_.cuda(), requires_grad=False)"
      ],
      "execution_count": 0,
      "outputs": []
    },
    {
      "cell_type": "markdown",
      "metadata": {
        "colab_type": "text",
        "id": "ubu2EGhqovW9"
      },
      "source": [
        "# 3. Now to train your GAN"
      ]
    },
    {
      "cell_type": "markdown",
      "metadata": {
        "colab_type": "text",
        "id": "kDSCUcNuovXA"
      },
      "source": [
        "We introduced and defined the generator G, the discriminator D, and the dataloader which will give us minibatches of real data. \n",
        "\n",
        "To recap the basic idea of the min-max / adversarial game:\n",
        "* The Generator and Discriminator have competing objectives, they are \"adversaries\".\n",
        "* The Discriminator wants to assign high probability to real images and low probability to generated (fake) images\n",
        "* The Generator wants its generated images to look real, so wants to modify its outputs to get high scores from the Discriminator\n",
        "* We will optimize both alternatingly, with SGD steps (as before): optimize $\\theta_D$ the weights of $D(x, \\theta_D)$, and  $\\theta_G$ the weights of $G(z, \\theta_G)$.\n",
        "* Final goal of the whole min-max game is for the Generator to match the data distribution: $p_G(x) \\approx p_{data}(x)$.\n",
        "\n",
        "\n",
        "Now what are the objective functions for each of them? As mentioned in the introduction, the objective for the discriminator is to classify the real images as real, so $D(x) = 1$, and the fake images as fake, so $D(G(z))=0$.\n",
        "This is a typical binary classification problem which calls for the binary cross-entropy (BCE) loss, which encourages exactly this solution.\n",
        "\n",
        "For G we just try to minimize the same loss that D maximizes. See how G appears inside D? This shows how the output of the generator G is passed into the Discriminator to compute the loss.\n",
        "\n",
        "\n",
        "This is the optimization problem:\n",
        "\n",
        "$$\n",
        "\\min _{G} \\max _{D} V(D, G)=\\mathbb{E}_{\\boldsymbol{x} \\sim p_{\\text { data }}(\\boldsymbol{x})}[\\log D(\\boldsymbol{x})]+\\mathbb{E}_{\\boldsymbol{z} \\sim p_{\\boldsymbol{z}}(\\boldsymbol{z})}[\\log (1-D(G(\\boldsymbol{z})))]\n",
        "$$\n",
        "\n",
        "We will do a single SGD step alternatingly to maximize D, then minimize G.\n",
        "In fact for G we use a modified (non-saturing) loss $-\\log D(G(z))$. Different modifications of the loss and the relation to the distance between distributions $p_{data}$ and $p_{G}$ became a topic of research over the last years.\n",
        "\n",
        "BCE takes care of the log, you won't manually compute any Log values\n"
      ]
    },
    {
      "cell_type": "code",
      "metadata": {
        "id": "f0FUwB7pXNED",
        "colab_type": "code",
        "colab": {}
      },
      "source": [
        "# Reset networks\n",
        "G = Generator(128)\n",
        "D = Discriminator(128)\n",
        "G.weight_init(mean=0.0, std=0.02)\n",
        "D.weight_init(mean=0.0, std=0.02)\n",
        "G = G.cuda()\n",
        "D = D.cuda()\n",
        "\n",
        "# Binary Cross Entropy loss\n",
        "BCE_loss = nn.BCELoss()\n",
        "\n",
        "# Adam optimizer\n",
        "G_optimizer = optim.Adam(G.parameters(), lr=lr, betas=(0.5, 0.999))\n",
        "D_optimizer = optim.Adam(D.parameters(), lr=lr, betas=(0.5, 0.999))"
      ],
      "execution_count": 0,
      "outputs": []
    },
    {
      "cell_type": "code",
      "metadata": {
        "id": "VGUM4XhzgcOM",
        "colab_type": "code",
        "colab": {}
      },
      "source": [
        "num_iter = 0\n",
        "collect_x_gen = []\n",
        "for epoch in range(train_epoch):\n",
        "    D_losses = []\n",
        "    G_losses = []\n",
        "    epoch_start_time = time.time()\n",
        "    for x_, _ in tqdm(data_loader):\n",
        "        # train discriminator D\n",
        "        D.zero_grad()\n",
        "\n",
        "        mini_batch = x_.size()[0]\n",
        "\n",
        "        #####\n",
        "        # create y_real_ and y_fake_ tensors you will use in your BCE loss to push probabilities \n",
        "        # in the proper direction\n",
        "        # y_real_ will be a tensor of all ones, because you want whatever is output by the generator\n",
        "        # to be more likely to be real and you want the discriminator to recognize real images\n",
        "        # y_fake_ then is a tensor of all zeros, because you want the discriminator to recognize fake images\n",
        "        #####\n",
        "        y_real_ = torch.ones(mini_batch)\n",
        "        y_fake_ = torch.zeros(mini_batch)\n",
        "\n",
        "        x_, y_real_, y_fake_ = Variable(x_.cuda()), Variable(y_real_.cuda()), Variable(y_fake_.cuda())\n",
        "        \n",
        "        #####\n",
        "        # pass x_ through the decoder to get D_result\n",
        "        # you will need to squeeze() the output before passing it to BCE_loss\n",
        "        # compute D_real_loss using BCE_loss and the proper y tensor from above\n",
        "        # you are trying to make the discriminator recognize the real image properly\n",
        "        #####\n",
        "        D_result = D(x_).squeeze()\n",
        "        D_real_loss = BCE_loss(D_result,y_real_)\n",
        "\n",
        "        #####\n",
        "        # sample a z vector (remember to view(-1,100,1,1))\n",
        "        # pass the z vector to the GPU and through your generator\n",
        "        # this will create G_result\n",
        "        #####\n",
        "        z = torch.randn((mini_batch, 100)).view(-1, 100, 1, 1).cuda()\n",
        "        G_result = G(z)\n",
        "\n",
        "        #####\n",
        "        # pass G_result through the discriminator and get D_result\n",
        "        # you will need to squeeze() the output of the discriminator\n",
        "        # compute D_fake_loss for the generated images by using BCE_loss and the proper y_tensor\n",
        "        # you are trying to make the discriminator recognize the fake image properly\n",
        "        # reduce D_fake_loss to the mean value\n",
        "        #####\n",
        "        D_result = D(G_result).squeeze()\n",
        "        D_fake_loss = BCE_loss(D_result, y_fake_)\n",
        "\n",
        "        #####\n",
        "        # sum D_real_loss and D_fake_loss to get D_train_loss\n",
        "        # compute the gradients\n",
        "        # step the optimizer\n",
        "        #####\n",
        "        D_train_loss = D_real_loss + D_fake_loss\n",
        "        D_train_loss.backward()\n",
        "        D_optimizer.step()\n",
        "\n",
        "        D_losses.append(D_train_loss.item())\n",
        "\n",
        "        # train generator G\n",
        "        G.zero_grad()\n",
        "\n",
        "        #####\n",
        "        # sample a z vector (viewed properly) and pass it to the GPU and through the generator\n",
        "        # compute the discriminated value of the generated image, properly squeezing the output\n",
        "        # get G_train_loss by using BCE_loss and the proper y_tensor\n",
        "        # you are trying to make the generator generate real images\n",
        "        # compute the gradients\n",
        "        # step the optimizer\n",
        "        #####\n",
        "        z = torch.randn((mini_batch, 100)).view(-1, 100, 1, 1).cuda()\n",
        "        G_train_loss = BCE_loss(D(G(z)).squeeze(),y_real_)\n",
        "        G_train_loss.backward()\n",
        "\n",
        "        G_losses.append(G_train_loss.item())\n",
        "        G_optimizer.step()\n",
        "\n",
        "        num_iter += 1\n",
        "\n",
        "    # generate a fixed_z_ image and save\n",
        "    fixed_z_ = torch.randn((mini_batch, 100)).view(-1, 100, 1, 1).cuda()\n",
        "    x_gen = G(fixed_z_)\n",
        "    collect_x_gen.append(x_gen.detach().clone())\n",
        "    epoch_end_time = time.time()\n",
        "    per_epoch_ptime = epoch_end_time - epoch_start_time\n",
        "\n",
        "    # print out statistics\n",
        "    print('[%d/%d] - ptime: %.2f, loss_d: %.3f, loss_g: %.3f' % ((epoch + 1), train_epoch, per_epoch_ptime, torch.mean(torch.FloatTensor(D_losses)),\n",
        "                                                              torch.mean(torch.FloatTensor(G_losses))))\n",
        "    show_imgs(x_gen)"
      ],
      "execution_count": 0,
      "outputs": []
    },
    {
      "cell_type": "markdown",
      "metadata": {
        "colab_type": "text",
        "id": "F1ar66RnovXQ"
      },
      "source": [
        "# A demo of a state of the art GAN and \"painting\" with them in your browser:\n",
        "\n",
        "https://gandissect.csail.mit.edu\n",
        "\n",
        "By our colleagues at the MIT-IBM Watson AI Lab.\n"
      ]
    },
    {
      "cell_type": "markdown",
      "metadata": {
        "colab_type": "text",
        "id": "j5iUTOD4ovXR"
      },
      "source": [
        "# Where to go from here\n",
        "* Use a more exciting datasets - check out [the pytorch torchvision.datasets](https://pytorch.org/docs/stable/torchvision/datasets.html) to get started quickly.\n",
        "* The [original GAN paper](https://papers.nips.cc/paper/5423-generative-adversarial-nets)\n",
        "* The [DCGAN paper](https://arxiv.org/abs/1511.06434) which made it all work much better for images. Start from: pytorch DCGAN [example](https://github.com/pytorch/examples/blob/master/dcgan/main.py) and [tutorial](https://pytorch.org/tutorials/beginner/dcgan_faces_tutorial.html)\n",
        "* Newer generations of loss functions measure different distances between distributions $p_{data}$ and $p_G$. For example [WGAN](https://github.com/martinarjovsky/WassersteinGAN), [WGAN-GP](https://arxiv.org/abs/1704.00028), [Fisher GAN](https://arxiv.org/abs/1705.09675), [Sobolev GAN](https://arxiv.org/abs/1711.04894), many more. They often have better stability properties wrt the original GAN loss.\n",
        "\n",
        "# References for this tutorial\n",
        "* pytorch DCGAN [example](https://github.com/pytorch/examples/blob/master/dcgan/main.py) and [tutorial](https://pytorch.org/tutorials/beginner/dcgan_faces_tutorial.html) by Nathan Inkawhich\n",
        "* [Medium blog post](https://medium.com/ai-society/gans-from-scratch-1-a-deep-introduction-with-code-in-pytorch-and-tensorflow-cb03cdcdba0f) by Diego Gomez Mosquera\n",
        "* [Material made for ITDS course at CUNY](https://github.com/grantmlong/itds2019/blob/master/lecture-6/DL_lab_solutions.ipynb) by Tom Sercu (that's me!)\n",
        "* [Blog post](https://towardsdatascience.com/graduating-in-gans-going-from-understanding-generative-adversarial-networks-to-running-your-own-39804c283399) by Cecelia Shao\n",
        "* [GAN overview image](https://www.slideshare.net/xavigiro/deep-learning-for-computer-vision-generative-models-and-adversarial-training-upc-2016) from Xavier Giro"
      ]
    }
  ]
}